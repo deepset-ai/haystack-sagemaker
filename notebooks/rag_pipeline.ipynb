{
 "cells": [
  {
   "attachments": {},
   "cell_type": "markdown",
   "metadata": {},
   "source": [
    "## Initialize your OpenSearchDocumentStore\n",
    "\n",
    "You can use `opensearch_indexing_pipeline.py` or the `notebooks/opensearch_indexing_pipeline.ipynb` notebook for a step by step guide to index the example files to your own `OpenSearchDocumentStore`. You may do this locally, or deploy it on AWS. Depending on your setup, once you have a running DocumentStore, connect to it in the cell below by providing the right credentials to `host`, `port`, `username` and `password`."
   ]
  },
  {
   "cell_type": "code",
   "execution_count": null,
   "metadata": {},
   "outputs": [],
   "source": [
    "from haystack.document_stores import OpenSearchDocumentStore\n",
    "\n",
    "doc_store = OpenSearchDocumentStore(host='your_opensearch_host', port=443, username= \"admin\", password=\"admin\", embedding_dim=384)"
   ]
  },
  {
   "attachments": {},
   "cell_type": "markdown",
   "metadata": {},
   "source": [
    "## Initialize a PromptNode with your SageMaker Endpoint Credentials\n",
    "\n",
    "Once you've deployed your model on SageMaker provide your own credentials in `model_name_or_path`, `profile_name` and `region_name`"
   ]
  },
  {
   "cell_type": "code",
   "execution_count": 6,
   "metadata": {},
   "outputs": [],
   "source": [
    "from haystack.nodes import AnswerParser, EmbeddingRetriever, PromptNode, PromptTemplate\n",
    "\n",
    "question_answering = PromptTemplate(prompt=\"Given the context please answer the question. If the answer is not contained within the context below, say 'I don't know'.\\n\" \n",
    "                                            \"Context: {join(documents)};\\n Question: {query};\\n Answer: \", output_parser=AnswerParser(reference_pattern=r\"Document\\[(\\d+)\\]\"))\n",
    "\n",
    "gen_qa_with_references = PromptNode(default_prompt_template=question_answering,  model_name_or_path=\"jumpstart-dft-falcon-40b-instruct\", model_kwargs={\"aws_profile_name\": \"default\", \"aws_region_name\": \"us-east-1\"})\n"
   ]
  },
  {
   "cell_type": "code",
   "execution_count": null,
   "metadata": {},
   "outputs": [],
   "source": [
    "retriever = EmbeddingRetriever(document_store=doc_store, embedding_model=\"sentence-transformers/all-MiniLM-L12-v2\", devices=[\"mps\"], top_k=5)"
   ]
  },
  {
   "attachments": {},
   "cell_type": "markdown",
   "metadata": {},
   "source": [
    "## Create a retrieval-augmented QA pipeline"
   ]
  },
  {
   "cell_type": "code",
   "execution_count": 8,
   "metadata": {},
   "outputs": [],
   "source": [
    "from haystack import Pipeline\n",
    "\n",
    "pipe = Pipeline()\n",
    "pipe.add_node(component=retriever, name=\"Retriever\", inputs=['Query'])\n",
    "pipe.add_node(component=gen_qa_with_references, name=\"GenQAWithRefPromptNode\", inputs=[\"Retriever\"])"
   ]
  },
  {
   "cell_type": "code",
   "execution_count": null,
   "metadata": {},
   "outputs": [],
   "source": [
    "from haystack.utils import print_answers\n",
    "\n",
    "result = pipe.run(\"How do I install the opensearch cli?\", params={\"Retriever\":{\"top_k\": 3}})"
   ]
  },
  {
   "cell_type": "code",
   "execution_count": null,
   "metadata": {},
   "outputs": [],
   "source": [
    "print_answers(results=result, details=\"minimum\")"
   ]
  }
 ],
 "metadata": {
  "kernelspec": {
   "display_name": "sagemeker",
   "language": "python",
   "name": "python3"
  },
  "language_info": {
   "codemirror_mode": {
    "name": "ipython",
    "version": 3
   },
   "file_extension": ".py",
   "mimetype": "text/x-python",
   "name": "python",
   "nbconvert_exporter": "python",
   "pygments_lexer": "ipython3",
   "version": "3.11.3"
  },
  "orig_nbformat": 4
 },
 "nbformat": 4,
 "nbformat_minor": 2
}
