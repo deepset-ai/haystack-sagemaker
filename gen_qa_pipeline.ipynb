{
 "cells": [
  {
   "attachments": {},
   "cell_type": "markdown",
   "metadata": {},
   "source": [
    "## Initialize your OpenSearchDocumentStore\n",
    "\n",
    "You can use the `opensearch_indexing_pipeline.ipynb` notebook to index the example files to your own `OpenSearchDocumentStore`. You may do this locally, or deploy it on AWS. Depending on your setup, once you have a running DocumentStore, connect to it in the cell below by providing the right credentials to `host`, `port`, `username` and `password`."
   ]
  },
  {
   "cell_type": "code",
   "execution_count": null,
   "metadata": {},
   "outputs": [],
   "source": [
    "from haystack.document_stores import OpenSearchDocumentStore\n",
    "\n",
    "doc_store = OpenSearchDocumentStore(host='localhost', port=9200, username= \"admin\", password=\"admin\", embedding_dim=384)"
   ]
  },
  {
   "attachments": {},
   "cell_type": "markdown",
   "metadata": {},
   "source": [
    "## Initialize a PromptNode with your SageMaker Endpoint Credentials\n",
    "\n",
    "Once you've deployed your model on SageMaker provide your own credentials in `model_name_or_path`, `profile_name` and `region_name`"
   ]
  },
  {
   "cell_type": "code",
   "execution_count": 66,
   "metadata": {},
   "outputs": [],
   "source": [
    "from haystack.nodes import AnswerParser, EmbeddingRetriever, PromptNode, PromptTemplate\n",
    "\n",
    "question_answering_with_references = PromptTemplate(\"deepset/question-answering-with-references\", output_parser=AnswerParser(reference_pattern=r\"Document\\[(\\d+)\\]\"))\n",
    "\n",
    "gen_qa_with_references = PromptNode(default_prompt_template=question_answering_with_references,  model_name_or_path=\"YOUR_FALCON_40B_INSTRUCT_ENDPOINT\", model_kwargs={\"profile_name\": \"YOUR_POFILE\", \"region_name\": \"YOUR_REGION\"})\n"
   ]
  },
  {
   "cell_type": "code",
   "execution_count": 16,
   "metadata": {},
   "outputs": [
    {
     "name": "stderr",
     "output_type": "stream",
     "text": [
      "/Users/tuanacelik/opt/anaconda3/envs/sagemeker/lib/python3.11/site-packages/torch/_utils.py:776: UserWarning: TypedStorage is deprecated. It will be removed in the future and UntypedStorage will be the only storage class. This should only matter to you if you are using storages directly.  To access UntypedStorage directly, use tensor.untyped_storage() instead of tensor.storage()\n",
      "  return self.fget.__get__(instance, owner)()\n"
     ]
    }
   ],
   "source": [
    "retriever = EmbeddingRetriever(document_store=doc_store, embedding_model=\"sentence-transformers/all-MiniLM-L12-v2\", devices=[\"mps\"], top_k=5)"
   ]
  },
  {
   "attachments": {},
   "cell_type": "markdown",
   "metadata": {},
   "source": [
    "## Create a retrieval-augmented QA pipeline"
   ]
  },
  {
   "cell_type": "code",
   "execution_count": 67,
   "metadata": {},
   "outputs": [],
   "source": [
    "from haystack import Pipeline\n",
    "\n",
    "pipe = Pipeline()\n",
    "pipe.add_node(component=retriever, name=\"Retriever\", inputs=['Query'])\n",
    "pipe.add_node(component=gen_qa_with_references, name=\"GenQAWithRefPromptNode\", inputs=[\"Retriever\"])"
   ]
  },
  {
   "cell_type": "code",
   "execution_count": 75,
   "metadata": {},
   "outputs": [
    {
     "name": "stderr",
     "output_type": "stream",
     "text": [
      "Batches: 100%|██████████| 1/1 [00:00<00:00,  2.78it/s]\n",
      "/Users/tuanacelik/opt/anaconda3/envs/sagemeker/lib/python3.11/site-packages/urllib3/connectionpool.py:1056: InsecureRequestWarning: Unverified HTTPS request is being made to host 'localhost'. Adding certificate verification is strongly advised. See: https://urllib3.readthedocs.io/en/1.26.x/advanced-usage.html#ssl-warnings\n",
      "  warnings.warn(\n"
     ]
    }
   ],
   "source": [
    "from haystack.utils import print_answers\n",
    "\n",
    "result = pipe.run(\"What is opensearch?\", params={\"Retriever\":{\"top_k\": 5}})"
   ]
  },
  {
   "cell_type": "code",
   "execution_count": 76,
   "metadata": {},
   "outputs": [
    {
     "name": "stdout",
     "output_type": "stream",
     "text": [
      "'Query: What is opensearch?'\n",
      "'Answers:'\n",
      "[   <Answer {'answer': '\\nOpenSearch is an open-source project built on top of Apache Lucene, a powerful indexing and search library. It is used for distributed search and analytics, and it can scale up and down as the needs of the application grow or shrink. OpenSearch also serves as a user interface for many of the OpenSearch plugins, including security, alerting, Index State Management, SQL, and more.', 'type': 'generative', 'score': None, 'context': None, 'offsets_in_document': None, 'offsets_in_context': None, 'document_ids': [], 'meta': {'prompt': 'Create a concise and informative answer (no more than 50 words) for a given question \\nbased solely on the given documents. You must only use information from the given documents. \\nUse an unbiased and journalistic tone. Do not repeat text. Cite the documents using Document[number] notation. \\nIf multiple documents contain the answer, cite those documents like ‘as stated in Document[number], Document[number], etc.’. \\nIf the documents do not contain the answer to the question, say that ‘answering is not possible given the available information.’\\n\\nDocument[1]: So what is OpenSearch then? OpenSearch is an open-source project built on top of Apache Lucene, a powerful indexing and search library. Even if you’ve never heard of an indexing library before, you’re still probably more familiar with indexing than you think. The quantity of data businesses maintain in this age necessitates it. Apache Lucene provides OpenSearch the ability to maintain large volumes of full documents, arbitrary text as well as non-textual data while maintaining several indices to make searching through each of them efficient. What is it used for? The use cases for OpenSearch are many. \\n\\nDocument[2]: OpenSearch is a distributed search and analytics engine based on Apache Lucene. After adding your data to OpenSearch, you can perform full-text searches on it with all of the features you might expect: search by field, search multiple indices, boost fields, rank results by score, sort results by field, and aggregate results. Unsurprisingly, people often use search engines like OpenSearch as the backend for a search application—think Wikipedia or an online store. It offers excellent performance and can scale up and down as the needs of the application grow or shrink. \\n\\nDocument[3]: This page contains example requests for popular OpenSearch operations. \\n\\nDocument[4]: It also serves as a user interface for many of the OpenSearch plugins, including security, alerting, Index State Management, SQL, and more. \\n\\nDocument[5]: Updated December 20, 2022 Principles for development · Founding Documents · OpenSearch disambiguation · OpenSearch is a community-driven, open-source search and analytics suite used by developers to ingest, search, visualize, and analyze data. OpenSearch consists of a data store and search engine (OpenSearch), a visualization and user interface (OpenSearch Dashboards), and a server-side data collector (Data Prepper). Users can extend the functionality of OpenSearch with a selection of plugins that enhance search, analytics, observability, security, machine learning, and more. \\nQuestion: What is opensearch?; Answer: \\n'}}>]\n"
     ]
    }
   ],
   "source": [
    "print_answers(results=result)"
   ]
  }
 ],
 "metadata": {
  "kernelspec": {
   "display_name": "sagemeker",
   "language": "python",
   "name": "python3"
  },
  "language_info": {
   "codemirror_mode": {
    "name": "ipython",
    "version": 3
   },
   "file_extension": ".py",
   "mimetype": "text/x-python",
   "name": "python",
   "nbconvert_exporter": "python",
   "pygments_lexer": "ipython3",
   "version": "3.11.3"
  },
  "orig_nbformat": 4
 },
 "nbformat": 4,
 "nbformat_minor": 2
}
